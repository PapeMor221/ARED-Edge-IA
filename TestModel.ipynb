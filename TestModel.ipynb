{
 "cells": [
  {
   "cell_type": "code",
   "execution_count": 4,
   "id": "9e46ebab-c1c0-43af-9960-9f1cbc61ec38",
   "metadata": {},
   "outputs": [
    {
     "name": "stderr",
     "output_type": "stream",
     "text": [
      "WARNING:absl:Compiled the loaded model, but the compiled metrics have yet to be built. `model.compile_metrics` will be empty until you train or evaluate the model.\n"
     ]
    },
    {
     "name": "stdout",
     "output_type": "stream",
     "text": [
      "\u001b[1m1/1\u001b[0m \u001b[32m━━━━━━━━━━━━━━━━━━━━\u001b[0m\u001b[37m\u001b[0m \u001b[1m0s\u001b[0m 30ms/step\n",
      "This log is classified as an error (label 1).\n"
     ]
    }
   ],
   "source": [
    "import numpy as np\n",
    "from tensorflow.keras.models import load_model\n",
    "import joblib\n",
    "import re\n",
    "import os\n",
    "\n",
    "\n",
    "model = load_model('log_model.h5')\n",
    "vectorizer = joblib.load('log_vectorizer.pkl')\n",
    "\n",
    "# Définir les patterns\n",
    "patterns = [\n",
    "    re.compile(r'(?P<date>\\w{3} \\d{2} \\d{2}:\\d{2}:\\d{2}) (?P<host>\\S+) (?P<service>\\S+)\\[(?P<pid>\\d+)\\]: (?P<message>.+)'),\n",
    "    re.compile(r'(?P<date>\\d{4}-\\d{2}-\\d{2}T\\d{2}:\\d{2}:\\d{2}\\+\\d{4}) (?P<host>\\S+) (?P<service>\\S+)\\[(?P<pid>\\d+)\\]: (?P<message>.+)'),\n",
    "    re.compile(r'(?P<date>\\w{3} \\d{2} \\d{2}:\\d{2}:\\d{2}) (?P<host>\\S+) (?P<service>\\S+): (?P<message>.+)'),\n",
    "    re.compile(r'\\[(?P<date>[\\d\\.]+)\\] (?P<message>.+)'),\n",
    "    re.compile(r'(?P<host>\\S+) (?P<service>\\S+)\\[(?P<pid>\\d+)\\]: (?P<message>.+)'),\n",
    "    re.compile(r'(?P<date>\\d{4}-\\d{2}-\\d{2}T\\d{2}:\\d{2}:\\d{2}\\+\\d{4}) (?P<host>\\S+) (?P<service>\\S+): (?P<message>.+)'),\n",
    "    re.compile(r'(?P<date>\\d{4}-\\d{2}-\\d{2}T\\d{2}:\\d{2}:\\d{2}\\.\\d+Z) level=(?P<level>\\w+) msg=\"(?P<message>.+)\"'),\n",
    "    re.compile(r'(?P<host>\\S+) (?P<service>\\S+)\\[(?P<pid>\\d+)\\]: (?P<message>.+)')\n",
    "]\n",
    "\n",
    "# Fonction pour prétraiter le log\n",
    "def preprocess_log(log):\n",
    "    for pattern in patterns:\n",
    "        match = pattern.match(log)\n",
    "        if match:\n",
    "            log_dict = match.groupdict()\n",
    "            message = log_dict.get('message', '')\n",
    "            return message\n",
    "    # Retourner None si aucun pattern ne correspond\n",
    "    return None\n",
    "\n",
    "# Log à prédire\n",
    "log = 'Jul 17 09:01:11 ared-machine balena-engine-daemon[3202]: time=\"2024-07-17T09:01:11.796037074Z\" level=error msg=\"failed to initialize a tracing processor \\\"otlp\\\"\" error=\"no OpenTelemetry endpoint: skip plugin\"'\n",
    "log1 = 'Jun 05 06:47:11 ared-machine balena-engine-daemon[3065]: time=\"2024-06-05T06:47:11.969153495Z\" level=i nfo msg=\"loading plugin \\\"io.containerd.internal.v1.shutdown\\\"...\" runtime=io.containerd.runc.v2 type=io.containerd.internal.v1'\n",
    "\n",
    "# Prétraiter le log\n",
    "processed_log = preprocess_log(log)\n",
    "\n",
    "# Vérifier si le log a été correctement prétraité\n",
    "if processed_log:\n",
    "    # Transformer le log en vecteur\n",
    "    log_vector = vectorizer.transform([processed_log]).toarray()\n",
    "\n",
    "    # Faire la prédiction\n",
    "    prediction = model.predict(log_vector)\n",
    "\n",
    "    # Interpréter la prédiction\n",
    "    if prediction > 0.5:\n",
    "        print(\"This log is classified as an error (label 1).\")\n",
    "    else:\n",
    "        print(\"This log is classified as not an error (label 0).\")\n",
    "else:\n",
    "    print(\"The log format is incorrect or could not be processed.\")\n"
   ]
  },
  {
   "cell_type": "code",
   "execution_count": null,
   "id": "b4a266a3-a302-444d-bdf4-b9c5109a03db",
   "metadata": {},
   "outputs": [],
   "source": []
  }
 ],
 "metadata": {
  "kernelspec": {
   "display_name": "Python 3 (ipykernel)",
   "language": "python",
   "name": "python3"
  },
  "language_info": {
   "codemirror_mode": {
    "name": "ipython",
    "version": 3
   },
   "file_extension": ".py",
   "mimetype": "text/x-python",
   "name": "python",
   "nbconvert_exporter": "python",
   "pygments_lexer": "ipython3",
   "version": "3.10.12"
  }
 },
 "nbformat": 4,
 "nbformat_minor": 5
}
